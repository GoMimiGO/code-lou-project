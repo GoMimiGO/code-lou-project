{
  "nbformat": 4,
  "nbformat_minor": 0,
  "metadata": {
    "colab": {
      "provenance": [],
      "authorship_tag": "ABX9TyNoRJyLeQw+FWI9pc5eHj+B",
      "include_colab_link": true
    },
    "kernelspec": {
      "name": "python3",
      "display_name": "Python 3"
    },
    "language_info": {
      "name": "python"
    }
  },
  "cells": [
    {
      "cell_type": "markdown",
      "metadata": {
        "id": "view-in-github",
        "colab_type": "text"
      },
      "source": [
        "<a href=\"https://colab.research.google.com/github/GoMimiGO/code-lou-project/blob/Data.Analysis.2023/data_1_checks.ipynb\" target=\"_parent\"><img src=\"https://colab.research.google.com/assets/colab-badge.svg\" alt=\"Open In Colab\"/></a>"
      ]
    },
    {
      "cell_type": "code",
      "execution_count": 1,
      "metadata": {
        "colab": {
          "base_uri": "https://localhost:8080/"
        },
        "id": "fzf-2Q3FO-16",
        "outputId": "0470ebd9-3d39-4d91-a520-b6c323ff6066"
      },
      "outputs": [
        {
          "output_type": "stream",
          "name": "stdout",
          "text": [
            "hello world\n"
          ]
        }
      ],
      "source": [
        "#Knowledge Check - Hello World\n",
        "print('hello world')"
      ]
    },
    {
      "cell_type": "code",
      "source": [
        "#Knowledge Check - \n",
        "w = 89.9\n",
        "\n",
        "#display x:\n",
        "print(w)\n",
        "\n",
        "#display the data type of x:\n",
        "print(type(w))"
      ],
      "metadata": {
        "colab": {
          "base_uri": "https://localhost:8080/"
        },
        "id": "XGIayu7NQCEe",
        "outputId": "4de7fe1d-7b41-41e5-b2b3-7c1615ee3b1f"
      },
      "execution_count": 4,
      "outputs": [
        {
          "output_type": "stream",
          "name": "stdout",
          "text": [
            "89.9\n",
            "<class 'float'>\n"
          ]
        }
      ]
    }
  ]
}