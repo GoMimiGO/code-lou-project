{
  "nbformat": 4,
  "nbformat_minor": 0,
  "metadata": {
    "colab": {
      "provenance": [],
      "authorship_tag": "ABX9TyO5Kk7YHKBJM2K9UPsic3lF",
      "include_colab_link": true
    },
    "kernelspec": {
      "name": "python3",
      "display_name": "Python 3"
    },
    "language_info": {
      "name": "python"
    }
  },
  "cells": [
    {
      "cell_type": "markdown",
      "metadata": {
        "id": "view-in-github",
        "colab_type": "text"
      },
      "source": [
        "<a href=\"https://colab.research.google.com/github/GoMimiGO/code-lou-project/blob/Data.Analysis.2023/Copy_of_data_1_checks.ipynb\" target=\"_parent\"><img src=\"https://colab.research.google.com/assets/colab-badge.svg\" alt=\"Open In Colab\"/></a>"
      ]
    },
    {
      "cell_type": "code",
      "execution_count": null,
      "metadata": {
        "colab": {
          "base_uri": "https://localhost:8080/"
        },
        "id": "fzf-2Q3FO-16",
        "outputId": "0470ebd9-3d39-4d91-a520-b6c323ff6066"
      },
      "outputs": [
        {
          "output_type": "stream",
          "name": "stdout",
          "text": [
            "hello world\n"
          ]
        }
      ],
      "source": [
        "#Knowledge Check - Hello World\n",
        "print('hello world')"
      ]
    },
    {
      "cell_type": "code",
      "source": [
        "#Knowledge Check - Print Data\n",
        "x, y, z = \"Orange\", \"Banana\", \"Cherry\"\n",
        "\n",
        "print(x)\n",
        "print(y)\n",
        "print(z)"
      ],
      "metadata": {
        "colab": {
          "base_uri": "https://localhost:8080/"
        },
        "id": "dKm6D3FFZRXl",
        "outputId": "ea5fc0bc-fb36-410f-c7fb-7fbefce1ebb3"
      },
      "execution_count": null,
      "outputs": [
        {
          "output_type": "stream",
          "name": "stdout",
          "text": [
            "Orange\n",
            "Banana\n",
            "Cherry\n"
          ]
        }
      ]
    },
    {
      "cell_type": "code",
      "source": [
        "#Knowledge Check - Print type Integer\n",
        "w = 89.9\n",
        "\n",
        "#display x:\n",
        "print(w)\n",
        "\n",
        "#display the data type of x:\n",
        "print(type(w))"
      ],
      "metadata": {
        "colab": {
          "base_uri": "https://localhost:8080/"
        },
        "id": "XGIayu7NQCEe",
        "outputId": "4de7fe1d-7b41-41e5-b2b3-7c1615ee3b1f"
      },
      "execution_count": null,
      "outputs": [
        {
          "output_type": "stream",
          "name": "stdout",
          "text": [
            "89.9\n",
            "<class 'float'>\n"
          ]
        }
      ]
    },
    {
      "cell_type": "code",
      "source": [
        "#Knowledge Check - Print type String\n",
        "h = \"Knowledge \"\n",
        "b = \"is Key\"\n",
        "k = \"to success! \"\n",
        "o = h + b + \" \" + k\n",
        "print(o)"
      ],
      "metadata": {
        "colab": {
          "base_uri": "https://localhost:8080/"
        },
        "id": "UgJA1DgrQlYG",
        "outputId": "34b5574d-44de-43d2-e50f-37228db0e605"
      },
      "execution_count": null,
      "outputs": [
        {
          "output_type": "stream",
          "name": "stdout",
          "text": [
            "Knowledge is Key to success! \n"
          ]
        }
      ]
    },
    {
      "cell_type": "code",
      "source": [
        "#knowledge Check - show data types \n",
        "x = str(10)\n",
        "y = int(10)\n",
        "z = float(10)\n",
        "print(x)\n",
        "print(y)\n",
        "print(z)\n",
        "print(type(x))\n",
        "print(type(y))\n",
        "print(type(z))"
      ],
      "metadata": {
        "colab": {
          "base_uri": "https://localhost:8080/"
        },
        "id": "rghmBBNyTgL0",
        "outputId": "17db0f50-1e5a-49e6-caf6-5673470f1f34"
      },
      "execution_count": null,
      "outputs": [
        {
          "output_type": "stream",
          "name": "stdout",
          "text": [
            "10\n",
            "10\n",
            "10.0\n",
            "<class 'str'>\n",
            "<class 'int'>\n",
            "<class 'float'>\n"
          ]
        }
      ]
    },
    {
      "cell_type": "code",
      "source": [
        "#knowledge Check - Dictionary\n",
        "showdict = {\n",
        "    \"make\": \"Chevy\",\n",
        "    \"model\": \"Tahoe\",\n",
        "    \"year\": \"2001\",\n",
        "}\n",
        "print(showdict)\n",
        "print(showdict[\"year\"])"
      ],
      "metadata": {
        "colab": {
          "base_uri": "https://localhost:8080/"
        },
        "id": "vVCy_0VZT__i",
        "outputId": "4ec9fe40-d13e-4b06-fa47-c38868aa3d72"
      },
      "execution_count": null,
      "outputs": [
        {
          "output_type": "stream",
          "name": "stdout",
          "text": [
            "{'make': 'Chevy', 'model': 'Tahoe', 'year': '2001'}\n",
            "2001\n"
          ]
        }
      ]
    },
    {
      "cell_type": "code",
      "source": [
        "#knowledge Check - Tuple\n",
        "tuple01 = (\"John\", \"Sue\", \"Susan\", \"Bob\")\n",
        "tuple02 = (10,12,2,3,45)\n",
        "tuple03 = (True, False, True, False, False)\n",
        "tuple04 = (\"test\", 45, True, 23, \"tester\")\n",
        "print(tuple01)\n",
        "print(tuple02)\n",
        "print(tuple03)\n",
        "print(tuple04)\n",
        "print(type(tuple01))\n",
        "print(len(tuple01))\n",
        "\n"
      ],
      "metadata": {
        "colab": {
          "base_uri": "https://localhost:8080/"
        },
        "id": "BmbgutFKVsmA",
        "outputId": "36346da1-cc7b-47bc-a68a-32cf1b3cf2a1"
      },
      "execution_count": null,
      "outputs": [
        {
          "output_type": "stream",
          "name": "stdout",
          "text": [
            "('John', 'Sue', 'Susan', 'Bob')\n",
            "(10, 12, 2, 3, 45)\n",
            "(True, False, True, False, False)\n",
            "('test', 45, True, 23, 'tester')\n",
            "<class 'tuple'>\n",
            "4\n"
          ]
        }
      ]
    }
  ]
}